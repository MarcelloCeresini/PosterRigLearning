{
 "cells": [
  {
   "cell_type": "code",
   "execution_count": 1,
   "metadata": {},
   "outputs": [
    {
     "name": "stderr",
     "output_type": "stream",
     "text": [
      "2023-04-10 22:40:34.061567: I tensorflow/core/platform/cpu_feature_guard.cc:182] This TensorFlow binary is optimized to use available CPU instructions in performance-critical operations.\n",
      "To enable the following instructions: AVX2 FMA, in other operations, rebuild TensorFlow with the appropriate compiler flags.\n",
      "2023-04-10 22:40:34.824614: W tensorflow/compiler/tf2tensorrt/utils/py_utils.cc:38] TF-TRT Warning: Could not find TensorRT\n"
     ]
    }
   ],
   "source": [
    "import tensorflow as tf\n",
    "import os\n",
    "import pandas as pd\n",
    "import numpy as np\n",
    "import matplotlib.pyplot as plt\n",
    "\n",
    "os.environ['CUDA_VISIBLE_DEVICES'] = '-1'\n"
   ]
  },
  {
   "cell_type": "code",
   "execution_count": 2,
   "metadata": {},
   "outputs": [
    {
     "name": "stdout",
     "output_type": "stream",
     "text": [
      "/home/franco4w/github/PosterRigLearning/data/DATA_TRAINING.xlsx\n"
     ]
    },
    {
     "data": {
      "text/html": [
       "<div>\n",
       "<style scoped>\n",
       "    .dataframe tbody tr th:only-of-type {\n",
       "        vertical-align: middle;\n",
       "    }\n",
       "\n",
       "    .dataframe tbody tr th {\n",
       "        vertical-align: top;\n",
       "    }\n",
       "\n",
       "    .dataframe thead th {\n",
       "        text-align: right;\n",
       "    }\n",
       "</style>\n",
       "<table border=\"1\" class=\"dataframe\">\n",
       "  <thead>\n",
       "    <tr style=\"text-align: right;\">\n",
       "      <th></th>\n",
       "      <th>FRONT_LSB</th>\n",
       "      <th>FRONT_LSR</th>\n",
       "      <th>REAR_LSB</th>\n",
       "      <th>REAR_LSR</th>\n",
       "      <th>OUTPUT_PHASE_F</th>\n",
       "      <th>OUTPUT_PHASE_R</th>\n",
       "      <th>OUTPUT_CPL_RMS_F</th>\n",
       "      <th>OUTPUT_CPL_RMS_R</th>\n",
       "    </tr>\n",
       "    <tr>\n",
       "      <th>RUN</th>\n",
       "      <th></th>\n",
       "      <th></th>\n",
       "      <th></th>\n",
       "      <th></th>\n",
       "      <th></th>\n",
       "      <th></th>\n",
       "      <th></th>\n",
       "      <th></th>\n",
       "    </tr>\n",
       "  </thead>\n",
       "  <tbody>\n",
       "    <tr>\n",
       "      <th>1</th>\n",
       "      <td>0.142857</td>\n",
       "      <td>0.142857</td>\n",
       "      <td>0.142857</td>\n",
       "      <td>0.142857</td>\n",
       "      <td>0.506079</td>\n",
       "      <td>0.652638</td>\n",
       "      <td>0.756346</td>\n",
       "      <td>0.622825</td>\n",
       "    </tr>\n",
       "    <tr>\n",
       "      <th>2</th>\n",
       "      <td>0.142857</td>\n",
       "      <td>0.142857</td>\n",
       "      <td>0.142857</td>\n",
       "      <td>0.571429</td>\n",
       "      <td>0.519700</td>\n",
       "      <td>0.725175</td>\n",
       "      <td>0.804872</td>\n",
       "      <td>0.693972</td>\n",
       "    </tr>\n",
       "    <tr>\n",
       "      <th>3</th>\n",
       "      <td>0.142857</td>\n",
       "      <td>0.142857</td>\n",
       "      <td>0.142857</td>\n",
       "      <td>1.000000</td>\n",
       "      <td>0.530943</td>\n",
       "      <td>0.781142</td>\n",
       "      <td>0.879404</td>\n",
       "      <td>0.791297</td>\n",
       "    </tr>\n",
       "    <tr>\n",
       "      <th>4</th>\n",
       "      <td>0.142857</td>\n",
       "      <td>0.142857</td>\n",
       "      <td>0.571429</td>\n",
       "      <td>1.000000</td>\n",
       "      <td>0.524781</td>\n",
       "      <td>0.862381</td>\n",
       "      <td>0.938740</td>\n",
       "      <td>0.852252</td>\n",
       "    </tr>\n",
       "    <tr>\n",
       "      <th>5</th>\n",
       "      <td>0.142857</td>\n",
       "      <td>0.142857</td>\n",
       "      <td>0.571429</td>\n",
       "      <td>0.571429</td>\n",
       "      <td>0.525569</td>\n",
       "      <td>0.814082</td>\n",
       "      <td>0.861299</td>\n",
       "      <td>0.756206</td>\n",
       "    </tr>\n",
       "  </tbody>\n",
       "</table>\n",
       "</div>"
      ],
      "text/plain": [
       "     FRONT_LSB  FRONT_LSR  REAR_LSB  REAR_LSR  OUTPUT_PHASE_F  OUTPUT_PHASE_R   \n",
       "RUN                                                                             \n",
       "1     0.142857   0.142857  0.142857  0.142857        0.506079        0.652638  \\\n",
       "2     0.142857   0.142857  0.142857  0.571429        0.519700        0.725175   \n",
       "3     0.142857   0.142857  0.142857  1.000000        0.530943        0.781142   \n",
       "4     0.142857   0.142857  0.571429  1.000000        0.524781        0.862381   \n",
       "5     0.142857   0.142857  0.571429  0.571429        0.525569        0.814082   \n",
       "\n",
       "     OUTPUT_CPL_RMS_F   OUTPUT_CPL_RMS_R  \n",
       "RUN                                       \n",
       "1             0.756346          0.622825  \n",
       "2             0.804872          0.693972  \n",
       "3             0.879404          0.791297  \n",
       "4             0.938740          0.852252  \n",
       "5             0.861299          0.756206  "
      ]
     },
     "execution_count": 2,
     "metadata": {},
     "output_type": "execute_result"
    }
   ],
   "source": [
    "ROOT_DIR = os.path.dirname(os.path.abspath(os.getcwd()))\n",
    "DATA_DIR = os.path.join(ROOT_DIR, \"data\", \"DATA_TRAINING.xlsx\")\n",
    "print(DATA_DIR)\n",
    "\n",
    "df = pd.read_excel(DATA_DIR, index_col=0)\n",
    "\n",
    "normalizing_factors = df.max()\n",
    "means = df.mean()\n",
    "\n",
    "df = df/normalizing_factors\n",
    "\n",
    "df.head()"
   ]
  },
  {
   "cell_type": "code",
   "execution_count": 3,
   "metadata": {},
   "outputs": [
    {
     "name": "stdout",
     "output_type": "stream",
     "text": [
      "FRONT_LSB             7.000000\n",
      "FRONT_LSR             7.000000\n",
      "REAR_LSB              7.000000\n",
      "REAR_LSR              7.000000\n",
      "OUTPUT_PHASE_F       41.605696\n",
      "OUTPUT_PHASE_R       59.714122\n",
      "OUTPUT_CPL_RMS_F     52.503677\n",
      "OUTPUT_CPL_RMS_R     79.147176\n",
      "dtype: float64\n"
     ]
    }
   ],
   "source": [
    "print(normalizing_factors)"
   ]
  },
  {
   "cell_type": "code",
   "execution_count": 4,
   "metadata": {},
   "outputs": [],
   "source": [
    "train_data = df.sample(frac=0.7)\n",
    "df = df.drop(train_data.index)\n",
    "\n",
    "val_data = df.sample(frac=0.5)\n",
    "df = df.drop(val_data.index)\n",
    "\n",
    "test_data = df"
   ]
  },
  {
   "cell_type": "code",
   "execution_count": 5,
   "metadata": {},
   "outputs": [
    {
     "name": "stdout",
     "output_type": "stream",
     "text": [
      "58\n",
      "12\n",
      "13\n"
     ]
    }
   ],
   "source": [
    "print(len(train_data))\n",
    "print(len(val_data))\n",
    "print(len(test_data))"
   ]
  },
  {
   "cell_type": "code",
   "execution_count": 6,
   "metadata": {},
   "outputs": [
    {
     "name": "stdout",
     "output_type": "stream",
     "text": [
      "Index([14, 15, 24, 25, 37, 38, 42, 58, 63, 70, 71, 72, 75], dtype='int64', name='RUN')\n"
     ]
    }
   ],
   "source": [
    "print(test_data.index)"
   ]
  },
  {
   "cell_type": "code",
   "execution_count": 7,
   "metadata": {},
   "outputs": [],
   "source": [
    "def get_x_y_array_from_df(df):\n",
    "    df = df.to_numpy()\n",
    "    return df[:, :4], df[:, 4:]"
   ]
  },
  {
   "cell_type": "code",
   "execution_count": 8,
   "metadata": {},
   "outputs": [],
   "source": [
    "x_train, y_train = get_x_y_array_from_df(train_data)\n",
    "x_val, y_val = get_x_y_array_from_df(val_data)\n",
    "x_test, y_test = get_x_y_array_from_df(test_data)"
   ]
  },
  {
   "cell_type": "code",
   "execution_count": 9,
   "metadata": {},
   "outputs": [
    {
     "name": "stderr",
     "output_type": "stream",
     "text": [
      "2023-04-10 22:40:36.618351: E tensorflow/compiler/xla/stream_executor/cuda/cuda_driver.cc:266] failed call to cuInit: CUDA_ERROR_NO_DEVICE: no CUDA-capable device is detected\n"
     ]
    }
   ],
   "source": [
    "train_dataset = tf.data.Dataset.from_tensor_slices((x_train, y_train))\n",
    "val_dataset = tf.data.Dataset.from_tensor_slices((x_val, y_val))\n",
    "test_dataset = tf.data.Dataset.from_tensor_slices((x_test, y_test))"
   ]
  },
  {
   "cell_type": "code",
   "execution_count": 10,
   "metadata": {},
   "outputs": [],
   "source": [
    "train_dataset = train_dataset.shuffle(100).batch(2)\n",
    "val_dataset = val_dataset.batch(1)"
   ]
  },
  {
   "cell_type": "code",
   "execution_count": 11,
   "metadata": {},
   "outputs": [],
   "source": [
    "model = tf.keras.Sequential()\n",
    "\n",
    "model.add(tf.keras.layers.Dense(100, activation=\"relu\"))\n",
    "model.add(tf.keras.layers.Dense(100, activation=\"relu\"))\n",
    "model.add(tf.keras.layers.Dense(100, activation=\"relu\"))\n",
    "model.add(tf.keras.layers.Dense(100, activation=\"relu\"))\n",
    "\n",
    "model.add(tf.keras.layers.Dense(4))\n",
    "\n",
    "model.compile(optimizer='adam',\n",
    "                loss=\"mse\")"
   ]
  },
  {
   "cell_type": "code",
   "execution_count": 12,
   "metadata": {},
   "outputs": [
    {
     "name": "stderr",
     "output_type": "stream",
     "text": [
      "2023-04-10 22:40:36.807617: I tensorflow/core/common_runtime/executor.cc:1197] [/device:CPU:0] (DEBUG INFO) Executor start aborting (this does not indicate an error and you can ignore this message): INVALID_ARGUMENT: You must feed a value for placeholder tensor 'Placeholder/_0' with dtype double and shape [58,4]\n",
      "\t [[{{node Placeholder/_0}}]]\n",
      "2023-04-10 22:40:36.808125: I tensorflow/core/common_runtime/executor.cc:1197] [/device:CPU:0] (DEBUG INFO) Executor start aborting (this does not indicate an error and you can ignore this message): INVALID_ARGUMENT: You must feed a value for placeholder tensor 'Placeholder/_0' with dtype double and shape [58,4]\n",
      "\t [[{{node Placeholder/_0}}]]\n"
     ]
    },
    {
     "name": "stdout",
     "output_type": "stream",
     "text": [
      "tf.Tensor(\n",
      "[[1.         0.14285714 0.14285714 0.57142857]\n",
      " [0.14285714 0.14285714 0.14285714 0.14285714]], shape=(2, 4), dtype=float64)\n",
      "tf.Tensor(\n",
      "[[ 0.04034568 -0.05403385 -0.02334032 -0.05275233]\n",
      " [ 0.00097295 -0.01216304 -0.00378134 -0.01882769]], shape=(2, 4), dtype=float32)\n"
     ]
    }
   ],
   "source": [
    "for x, y in train_dataset.take(1):\n",
    "    print(x)\n",
    "    y_pred = model(x)\n",
    "\n",
    "print(y_pred)"
   ]
  },
  {
   "cell_type": "code",
   "execution_count": 13,
   "metadata": {},
   "outputs": [
    {
     "name": "stdout",
     "output_type": "stream",
     "text": [
      "Epoch 1/50\n"
     ]
    },
    {
     "name": "stderr",
     "output_type": "stream",
     "text": [
      "2023-04-10 22:40:36.987931: I tensorflow/core/common_runtime/executor.cc:1197] [/device:CPU:0] (DEBUG INFO) Executor start aborting (this does not indicate an error and you can ignore this message): INVALID_ARGUMENT: You must feed a value for placeholder tensor 'Placeholder/_1' with dtype double and shape [58,4]\n",
      "\t [[{{node Placeholder/_1}}]]\n",
      "2023-04-10 22:40:36.988291: I tensorflow/core/common_runtime/executor.cc:1197] [/device:CPU:0] (DEBUG INFO) Executor start aborting (this does not indicate an error and you can ignore this message): INVALID_ARGUMENT: You must feed a value for placeholder tensor 'Placeholder/_1' with dtype double and shape [58,4]\n",
      "\t [[{{node Placeholder/_1}}]]\n"
     ]
    },
    {
     "name": "stdout",
     "output_type": "stream",
     "text": [
      "29/29 [==============================] - 1s 9ms/step - loss: 0.2536 - val_loss: 0.0315\n",
      "Epoch 2/50\n",
      "17/29 [================>.............] - ETA: 0s - loss: 0.0180"
     ]
    },
    {
     "name": "stderr",
     "output_type": "stream",
     "text": [
      "2023-04-10 22:40:37.826402: I tensorflow/core/common_runtime/executor.cc:1197] [/device:CPU:0] (DEBUG INFO) Executor start aborting (this does not indicate an error and you can ignore this message): INVALID_ARGUMENT: You must feed a value for placeholder tensor 'Placeholder/_1' with dtype double and shape [12,4]\n",
      "\t [[{{node Placeholder/_1}}]]\n"
     ]
    },
    {
     "name": "stdout",
     "output_type": "stream",
     "text": [
      "29/29 [==============================] - 0s 4ms/step - loss: 0.0154 - val_loss: 0.0194\n",
      "Epoch 3/50\n",
      "29/29 [==============================] - 0s 4ms/step - loss: 0.0100 - val_loss: 0.0140\n",
      "Epoch 4/50\n",
      "29/29 [==============================] - 0s 4ms/step - loss: 0.0074 - val_loss: 0.0103\n",
      "Epoch 5/50\n",
      "29/29 [==============================] - 0s 3ms/step - loss: 0.0062 - val_loss: 0.0086\n",
      "Epoch 6/50\n",
      "29/29 [==============================] - 0s 4ms/step - loss: 0.0047 - val_loss: 0.0057\n",
      "Epoch 7/50\n",
      "29/29 [==============================] - 0s 3ms/step - loss: 0.0039 - val_loss: 0.0045\n",
      "Epoch 8/50\n",
      "29/29 [==============================] - 0s 3ms/step - loss: 0.0030 - val_loss: 0.0034\n",
      "Epoch 9/50\n",
      "29/29 [==============================] - 0s 3ms/step - loss: 0.0042 - val_loss: 0.0029\n",
      "Epoch 10/50\n",
      "29/29 [==============================] - 0s 3ms/step - loss: 0.0026 - val_loss: 0.0022\n",
      "Epoch 11/50\n",
      "29/29 [==============================] - 0s 3ms/step - loss: 0.0025 - val_loss: 0.0029\n"
     ]
    }
   ],
   "source": [
    "history = model.fit(\n",
    "    train_dataset,\n",
    "    epochs=50,\n",
    "    shuffle=True,\n",
    "    validation_data=val_dataset,\n",
    "    callbacks=[tf.keras.callbacks.EarlyStopping(monitor='val_loss', patience=1, restore_best_weights=True)]\n",
    ")"
   ]
  },
  {
   "cell_type": "code",
   "execution_count": 14,
   "metadata": {},
   "outputs": [
    {
     "name": "stdout",
     "output_type": "stream",
     "text": [
      "1/1 [==============================] - 0s 98ms/step - loss: 0.0027\n"
     ]
    }
   ],
   "source": [
    "eval = model.evaluate(x=x_test, y=y_test)"
   ]
  },
  {
   "cell_type": "code",
   "execution_count": 15,
   "metadata": {},
   "outputs": [
    {
     "data": {
      "text/plain": [
       "FRONT_LSB            0.270243\n",
       "FRONT_LSR            0.270243\n",
       "REAR_LSB             0.276446\n",
       "REAR_LSR             0.271495\n",
       "OUTPUT_PHASE_F       1.827563\n",
       "OUTPUT_PHASE_R       2.792987\n",
       "OUTPUT_CPL_RMS_F     2.558701\n",
       "OUTPUT_CPL_RMS_R     3.649194\n",
       "dtype: float64"
      ]
     },
     "execution_count": 15,
     "metadata": {},
     "output_type": "execute_result"
    }
   ],
   "source": [
    "np.sqrt(eval*means*normalizing_factors)"
   ]
  },
  {
   "cell_type": "code",
   "execution_count": 16,
   "metadata": {},
   "outputs": [],
   "source": [
    "y_pred = model(x_test)"
   ]
  },
  {
   "cell_type": "code",
   "execution_count": 17,
   "metadata": {},
   "outputs": [
    {
     "data": {
      "text/html": [
       "<div>\n",
       "<style scoped>\n",
       "    .dataframe tbody tr th:only-of-type {\n",
       "        vertical-align: middle;\n",
       "    }\n",
       "\n",
       "    .dataframe tbody tr th {\n",
       "        vertical-align: top;\n",
       "    }\n",
       "\n",
       "    .dataframe thead th {\n",
       "        text-align: right;\n",
       "    }\n",
       "</style>\n",
       "<table border=\"1\" class=\"dataframe\">\n",
       "  <thead>\n",
       "    <tr style=\"text-align: right;\">\n",
       "      <th></th>\n",
       "      <th>FRONT_LSB</th>\n",
       "      <th>FRONT_LSR</th>\n",
       "      <th>REAR_LSB</th>\n",
       "      <th>REAR_LSR</th>\n",
       "      <th>OUTPUT_PHASE_F</th>\n",
       "      <th>OUTPUT_PHASE_R</th>\n",
       "      <th>OUTPUT_CPL_RMS_F</th>\n",
       "      <th>OUTPUT_CPL_RMS_R</th>\n",
       "    </tr>\n",
       "    <tr>\n",
       "      <th>RUN</th>\n",
       "      <th></th>\n",
       "      <th></th>\n",
       "      <th></th>\n",
       "      <th></th>\n",
       "      <th></th>\n",
       "      <th></th>\n",
       "      <th></th>\n",
       "      <th></th>\n",
       "    </tr>\n",
       "  </thead>\n",
       "  <tbody>\n",
       "    <tr>\n",
       "      <th>14</th>\n",
       "      <td>0.142857</td>\n",
       "      <td>0.571429</td>\n",
       "      <td>0.142857</td>\n",
       "      <td>1.000000</td>\n",
       "      <td>0.613652</td>\n",
       "      <td>0.789738</td>\n",
       "      <td>0.870029</td>\n",
       "      <td>0.807722</td>\n",
       "    </tr>\n",
       "    <tr>\n",
       "      <th>15</th>\n",
       "      <td>0.142857</td>\n",
       "      <td>0.571429</td>\n",
       "      <td>0.571429</td>\n",
       "      <td>1.000000</td>\n",
       "      <td>0.609915</td>\n",
       "      <td>0.873777</td>\n",
       "      <td>0.926759</td>\n",
       "      <td>0.873103</td>\n",
       "    </tr>\n",
       "    <tr>\n",
       "      <th>24</th>\n",
       "      <td>0.142857</td>\n",
       "      <td>1.000000</td>\n",
       "      <td>0.571429</td>\n",
       "      <td>1.000000</td>\n",
       "      <td>0.774589</td>\n",
       "      <td>0.888863</td>\n",
       "      <td>0.930533</td>\n",
       "      <td>0.897261</td>\n",
       "    </tr>\n",
       "    <tr>\n",
       "      <th>25</th>\n",
       "      <td>0.142857</td>\n",
       "      <td>1.000000</td>\n",
       "      <td>0.571429</td>\n",
       "      <td>0.571429</td>\n",
       "      <td>0.759646</td>\n",
       "      <td>0.829744</td>\n",
       "      <td>0.875563</td>\n",
       "      <td>0.801886</td>\n",
       "    </tr>\n",
       "    <tr>\n",
       "      <th>37</th>\n",
       "      <td>0.571429</td>\n",
       "      <td>0.142857</td>\n",
       "      <td>1.000000</td>\n",
       "      <td>0.571429</td>\n",
       "      <td>0.590557</td>\n",
       "      <td>0.876823</td>\n",
       "      <td>0.909275</td>\n",
       "      <td>0.813725</td>\n",
       "    </tr>\n",
       "    <tr>\n",
       "      <th>38</th>\n",
       "      <td>0.571429</td>\n",
       "      <td>0.142857</td>\n",
       "      <td>1.000000</td>\n",
       "      <td>1.000000</td>\n",
       "      <td>0.583380</td>\n",
       "      <td>0.927462</td>\n",
       "      <td>0.978095</td>\n",
       "      <td>0.903913</td>\n",
       "    </tr>\n",
       "    <tr>\n",
       "      <th>42</th>\n",
       "      <td>0.571429</td>\n",
       "      <td>0.571429</td>\n",
       "      <td>0.142857</td>\n",
       "      <td>0.142857</td>\n",
       "      <td>0.633229</td>\n",
       "      <td>0.652749</td>\n",
       "      <td>0.777531</td>\n",
       "      <td>0.635522</td>\n",
       "    </tr>\n",
       "    <tr>\n",
       "      <th>58</th>\n",
       "      <td>1.000000</td>\n",
       "      <td>0.142857</td>\n",
       "      <td>0.142857</td>\n",
       "      <td>1.000000</td>\n",
       "      <td>0.713034</td>\n",
       "      <td>0.817637</td>\n",
       "      <td>0.881136</td>\n",
       "      <td>0.815830</td>\n",
       "    </tr>\n",
       "    <tr>\n",
       "      <th>63</th>\n",
       "      <td>1.000000</td>\n",
       "      <td>0.142857</td>\n",
       "      <td>0.571429</td>\n",
       "      <td>1.000000</td>\n",
       "      <td>0.718983</td>\n",
       "      <td>0.895348</td>\n",
       "      <td>0.924601</td>\n",
       "      <td>0.874958</td>\n",
       "    </tr>\n",
       "    <tr>\n",
       "      <th>70</th>\n",
       "      <td>1.000000</td>\n",
       "      <td>0.571429</td>\n",
       "      <td>0.571429</td>\n",
       "      <td>1.000000</td>\n",
       "      <td>0.827963</td>\n",
       "      <td>0.909718</td>\n",
       "      <td>0.934036</td>\n",
       "      <td>0.887317</td>\n",
       "    </tr>\n",
       "    <tr>\n",
       "      <th>71</th>\n",
       "      <td>1.000000</td>\n",
       "      <td>0.571429</td>\n",
       "      <td>0.571429</td>\n",
       "      <td>0.571429</td>\n",
       "      <td>0.808848</td>\n",
       "      <td>0.840002</td>\n",
       "      <td>0.885269</td>\n",
       "      <td>0.791291</td>\n",
       "    </tr>\n",
       "    <tr>\n",
       "      <th>72</th>\n",
       "      <td>1.000000</td>\n",
       "      <td>0.571429</td>\n",
       "      <td>0.571429</td>\n",
       "      <td>0.142857</td>\n",
       "      <td>0.806418</td>\n",
       "      <td>0.758281</td>\n",
       "      <td>0.855339</td>\n",
       "      <td>0.720917</td>\n",
       "    </tr>\n",
       "    <tr>\n",
       "      <th>75</th>\n",
       "      <td>1.000000</td>\n",
       "      <td>0.571429</td>\n",
       "      <td>1.000000</td>\n",
       "      <td>1.000000</td>\n",
       "      <td>0.827274</td>\n",
       "      <td>0.961118</td>\n",
       "      <td>0.973671</td>\n",
       "      <td>0.937309</td>\n",
       "    </tr>\n",
       "  </tbody>\n",
       "</table>\n",
       "</div>"
      ],
      "text/plain": [
       "     FRONT_LSB  FRONT_LSR  REAR_LSB  REAR_LSR  OUTPUT_PHASE_F  OUTPUT_PHASE_R   \n",
       "RUN                                                                             \n",
       "14    0.142857   0.571429  0.142857  1.000000        0.613652        0.789738  \\\n",
       "15    0.142857   0.571429  0.571429  1.000000        0.609915        0.873777   \n",
       "24    0.142857   1.000000  0.571429  1.000000        0.774589        0.888863   \n",
       "25    0.142857   1.000000  0.571429  0.571429        0.759646        0.829744   \n",
       "37    0.571429   0.142857  1.000000  0.571429        0.590557        0.876823   \n",
       "38    0.571429   0.142857  1.000000  1.000000        0.583380        0.927462   \n",
       "42    0.571429   0.571429  0.142857  0.142857        0.633229        0.652749   \n",
       "58    1.000000   0.142857  0.142857  1.000000        0.713034        0.817637   \n",
       "63    1.000000   0.142857  0.571429  1.000000        0.718983        0.895348   \n",
       "70    1.000000   0.571429  0.571429  1.000000        0.827963        0.909718   \n",
       "71    1.000000   0.571429  0.571429  0.571429        0.808848        0.840002   \n",
       "72    1.000000   0.571429  0.571429  0.142857        0.806418        0.758281   \n",
       "75    1.000000   0.571429  1.000000  1.000000        0.827274        0.961118   \n",
       "\n",
       "     OUTPUT_CPL_RMS_F   OUTPUT_CPL_RMS_R  \n",
       "RUN                                       \n",
       "14            0.870029          0.807722  \n",
       "15            0.926759          0.873103  \n",
       "24            0.930533          0.897261  \n",
       "25            0.875563          0.801886  \n",
       "37            0.909275          0.813725  \n",
       "38            0.978095          0.903913  \n",
       "42            0.777531          0.635522  \n",
       "58            0.881136          0.815830  \n",
       "63            0.924601          0.874958  \n",
       "70            0.934036          0.887317  \n",
       "71            0.885269          0.791291  \n",
       "72            0.855339          0.720917  \n",
       "75            0.973671          0.937309  "
      ]
     },
     "execution_count": 17,
     "metadata": {},
     "output_type": "execute_result"
    }
   ],
   "source": [
    "test_data"
   ]
  },
  {
   "cell_type": "code",
   "execution_count": 18,
   "metadata": {},
   "outputs": [
    {
     "data": {
      "text/plain": [
       "<tf.Tensor: shape=(13, 4), dtype=float32, numpy=\n",
       "array([[26.55643 , 48.327675, 47.31083 , 66.0963  ],\n",
       "       [27.713757, 52.379265, 49.422253, 69.631355],\n",
       "       [32.023808, 53.522964, 50.625046, 71.61979 ],\n",
       "       [29.73032 , 47.431297, 45.808907, 63.308365],\n",
       "       [25.774246, 52.175026, 49.509964, 67.24751 ],\n",
       "       [29.026524, 59.345795, 55.508633, 76.61268 ],\n",
       "       [27.587317, 38.598988, 41.67685 , 50.31199 ],\n",
       "       [31.43497 , 54.366573, 52.98273 , 73.07632 ],\n",
       "       [31.232388, 57.628258, 54.774033, 75.50799 ],\n",
       "       [33.625523, 55.778553, 52.78787 , 73.33562 ],\n",
       "       [33.068268, 50.31172 , 49.625824, 64.749054],\n",
       "       [32.969265, 45.240482, 46.878117, 58.098003],\n",
       "       [34.151585, 60.6926  , 56.65543 , 79.03006 ]], dtype=float32)>"
      ]
     },
     "execution_count": 18,
     "metadata": {},
     "output_type": "execute_result"
    }
   ],
   "source": [
    "y_pred*normalizing_factors[4:].to_numpy()"
   ]
  },
  {
   "cell_type": "code",
   "execution_count": 19,
   "metadata": {},
   "outputs": [
    {
     "data": {
      "text/html": [
       "<div>\n",
       "<style scoped>\n",
       "    .dataframe tbody tr th:only-of-type {\n",
       "        vertical-align: middle;\n",
       "    }\n",
       "\n",
       "    .dataframe tbody tr th {\n",
       "        vertical-align: top;\n",
       "    }\n",
       "\n",
       "    .dataframe thead th {\n",
       "        text-align: right;\n",
       "    }\n",
       "</style>\n",
       "<table border=\"1\" class=\"dataframe\">\n",
       "  <thead>\n",
       "    <tr style=\"text-align: right;\">\n",
       "      <th></th>\n",
       "      <th>FRONT_LSB</th>\n",
       "      <th>FRONT_LSR</th>\n",
       "      <th>REAR_LSB</th>\n",
       "      <th>REAR_LSR</th>\n",
       "      <th>OUTPUT_PHASE_F</th>\n",
       "      <th>OUTPUT_PHASE_R</th>\n",
       "      <th>OUTPUT_CPL_RMS_F</th>\n",
       "      <th>OUTPUT_CPL_RMS_R</th>\n",
       "    </tr>\n",
       "    <tr>\n",
       "      <th>RUN</th>\n",
       "      <th></th>\n",
       "      <th></th>\n",
       "      <th></th>\n",
       "      <th></th>\n",
       "      <th></th>\n",
       "      <th></th>\n",
       "      <th></th>\n",
       "      <th></th>\n",
       "    </tr>\n",
       "  </thead>\n",
       "  <tbody>\n",
       "    <tr>\n",
       "      <th>14</th>\n",
       "      <td>1.0</td>\n",
       "      <td>4.0</td>\n",
       "      <td>1.0</td>\n",
       "      <td>7.0</td>\n",
       "      <td>25.531435</td>\n",
       "      <td>47.158541</td>\n",
       "      <td>45.679741</td>\n",
       "      <td>63.928897</td>\n",
       "    </tr>\n",
       "    <tr>\n",
       "      <th>15</th>\n",
       "      <td>1.0</td>\n",
       "      <td>4.0</td>\n",
       "      <td>4.0</td>\n",
       "      <td>7.0</td>\n",
       "      <td>25.375918</td>\n",
       "      <td>52.176830</td>\n",
       "      <td>48.658272</td>\n",
       "      <td>69.103655</td>\n",
       "    </tr>\n",
       "    <tr>\n",
       "      <th>24</th>\n",
       "      <td>1.0</td>\n",
       "      <td>7.0</td>\n",
       "      <td>4.0</td>\n",
       "      <td>7.0</td>\n",
       "      <td>32.227300</td>\n",
       "      <td>53.077649</td>\n",
       "      <td>48.856385</td>\n",
       "      <td>71.015635</td>\n",
       "    </tr>\n",
       "    <tr>\n",
       "      <th>25</th>\n",
       "      <td>1.0</td>\n",
       "      <td>7.0</td>\n",
       "      <td>4.0</td>\n",
       "      <td>4.0</td>\n",
       "      <td>31.605586</td>\n",
       "      <td>49.547458</td>\n",
       "      <td>45.970256</td>\n",
       "      <td>63.467041</td>\n",
       "    </tr>\n",
       "    <tr>\n",
       "      <th>37</th>\n",
       "      <td>4.0</td>\n",
       "      <td>1.0</td>\n",
       "      <td>7.0</td>\n",
       "      <td>4.0</td>\n",
       "      <td>24.570518</td>\n",
       "      <td>52.358735</td>\n",
       "      <td>47.740276</td>\n",
       "      <td>64.404038</td>\n",
       "    </tr>\n",
       "    <tr>\n",
       "      <th>38</th>\n",
       "      <td>4.0</td>\n",
       "      <td>1.0</td>\n",
       "      <td>7.0</td>\n",
       "      <td>7.0</td>\n",
       "      <td>24.271914</td>\n",
       "      <td>55.382553</td>\n",
       "      <td>51.353582</td>\n",
       "      <td>71.542197</td>\n",
       "    </tr>\n",
       "    <tr>\n",
       "      <th>42</th>\n",
       "      <td>4.0</td>\n",
       "      <td>4.0</td>\n",
       "      <td>1.0</td>\n",
       "      <td>1.0</td>\n",
       "      <td>26.345921</td>\n",
       "      <td>38.978315</td>\n",
       "      <td>40.823241</td>\n",
       "      <td>50.299798</td>\n",
       "    </tr>\n",
       "    <tr>\n",
       "      <th>58</th>\n",
       "      <td>7.0</td>\n",
       "      <td>1.0</td>\n",
       "      <td>1.0</td>\n",
       "      <td>7.0</td>\n",
       "      <td>29.666257</td>\n",
       "      <td>48.824450</td>\n",
       "      <td>46.262858</td>\n",
       "      <td>64.570629</td>\n",
       "    </tr>\n",
       "    <tr>\n",
       "      <th>63</th>\n",
       "      <td>7.0</td>\n",
       "      <td>1.0</td>\n",
       "      <td>4.0</td>\n",
       "      <td>7.0</td>\n",
       "      <td>29.913772</td>\n",
       "      <td>53.464911</td>\n",
       "      <td>48.544931</td>\n",
       "      <td>69.250458</td>\n",
       "    </tr>\n",
       "    <tr>\n",
       "      <th>70</th>\n",
       "      <td>7.0</td>\n",
       "      <td>4.0</td>\n",
       "      <td>4.0</td>\n",
       "      <td>7.0</td>\n",
       "      <td>34.447983</td>\n",
       "      <td>54.323040</td>\n",
       "      <td>49.040303</td>\n",
       "      <td>70.228604</td>\n",
       "    </tr>\n",
       "    <tr>\n",
       "      <th>71</th>\n",
       "      <td>7.0</td>\n",
       "      <td>4.0</td>\n",
       "      <td>4.0</td>\n",
       "      <td>4.0</td>\n",
       "      <td>33.652673</td>\n",
       "      <td>50.159990</td>\n",
       "      <td>46.479877</td>\n",
       "      <td>62.628469</td>\n",
       "    </tr>\n",
       "    <tr>\n",
       "      <th>72</th>\n",
       "      <td>7.0</td>\n",
       "      <td>4.0</td>\n",
       "      <td>4.0</td>\n",
       "      <td>1.0</td>\n",
       "      <td>33.551569</td>\n",
       "      <td>45.280106</td>\n",
       "      <td>44.908437</td>\n",
       "      <td>57.058559</td>\n",
       "    </tr>\n",
       "    <tr>\n",
       "      <th>75</th>\n",
       "      <td>7.0</td>\n",
       "      <td>4.0</td>\n",
       "      <td>7.0</td>\n",
       "      <td>7.0</td>\n",
       "      <td>34.419303</td>\n",
       "      <td>57.392296</td>\n",
       "      <td>51.121302</td>\n",
       "      <td>74.185384</td>\n",
       "    </tr>\n",
       "  </tbody>\n",
       "</table>\n",
       "</div>"
      ],
      "text/plain": [
       "     FRONT_LSB  FRONT_LSR  REAR_LSB  REAR_LSR  OUTPUT_PHASE_F  OUTPUT_PHASE_R   \n",
       "RUN                                                                             \n",
       "14         1.0        4.0       1.0       7.0       25.531435       47.158541  \\\n",
       "15         1.0        4.0       4.0       7.0       25.375918       52.176830   \n",
       "24         1.0        7.0       4.0       7.0       32.227300       53.077649   \n",
       "25         1.0        7.0       4.0       4.0       31.605586       49.547458   \n",
       "37         4.0        1.0       7.0       4.0       24.570518       52.358735   \n",
       "38         4.0        1.0       7.0       7.0       24.271914       55.382553   \n",
       "42         4.0        4.0       1.0       1.0       26.345921       38.978315   \n",
       "58         7.0        1.0       1.0       7.0       29.666257       48.824450   \n",
       "63         7.0        1.0       4.0       7.0       29.913772       53.464911   \n",
       "70         7.0        4.0       4.0       7.0       34.447983       54.323040   \n",
       "71         7.0        4.0       4.0       4.0       33.652673       50.159990   \n",
       "72         7.0        4.0       4.0       1.0       33.551569       45.280106   \n",
       "75         7.0        4.0       7.0       7.0       34.419303       57.392296   \n",
       "\n",
       "     OUTPUT_CPL_RMS_F   OUTPUT_CPL_RMS_R  \n",
       "RUN                                       \n",
       "14           45.679741         63.928897  \n",
       "15           48.658272         69.103655  \n",
       "24           48.856385         71.015635  \n",
       "25           45.970256         63.467041  \n",
       "37           47.740276         64.404038  \n",
       "38           51.353582         71.542197  \n",
       "42           40.823241         50.299798  \n",
       "58           46.262858         64.570629  \n",
       "63           48.544931         69.250458  \n",
       "70           49.040303         70.228604  \n",
       "71           46.479877         62.628469  \n",
       "72           44.908437         57.058559  \n",
       "75           51.121302         74.185384  "
      ]
     },
     "execution_count": 19,
     "metadata": {},
     "output_type": "execute_result"
    }
   ],
   "source": [
    "test_data*normalizing_factors"
   ]
  },
  {
   "cell_type": "code",
   "execution_count": 20,
   "metadata": {},
   "outputs": [],
   "source": [
    "def eval_and_renorm(x):\n",
    "    x /= normalizing_factors[:4].to_numpy()\n",
    "    x = tf.convert_to_tensor([x])\n",
    "    return model(x).numpy()*normalizing_factors[4:].to_numpy()\n",
    "    "
   ]
  },
  {
   "cell_type": "code",
   "execution_count": 21,
   "metadata": {},
   "outputs": [],
   "source": [
    "x = range(1,8)\n",
    "y = []\n",
    "\n",
    "for i in x:\n",
    "    y.append(eval_and_renorm([1,i,2.1,4]))"
   ]
  },
  {
   "cell_type": "code",
   "execution_count": 27,
   "metadata": {},
   "outputs": [
    {
     "data": {
      "text/plain": [
       "array([19.50633159, 42.35869235, 41.18487843, 56.24794742])"
      ]
     },
     "execution_count": 27,
     "metadata": {},
     "output_type": "execute_result"
    }
   ],
   "source": [
    "y[0][0]"
   ]
  },
  {
   "cell_type": "code",
   "execution_count": 28,
   "metadata": {},
   "outputs": [
    {
     "data": {
      "text/plain": [
       "[<matplotlib.lines.Line2D at 0x7f2474471d50>]"
      ]
     },
     "execution_count": 28,
     "metadata": {},
     "output_type": "execute_result"
    },
    {
     "data": {
      "image/png": "[encoded data removed]",
      "text/plain": [
       "<Figure size 640x480 with 4 Axes>"
      ]
     },
     "metadata": {},
     "output_type": "display_data"
    }
   ],
   "source": [
    "plt.subplot(141)\n",
    "plt.plot(x, [sample[0][0] for sample in y])\n",
    "\n",
    "plt.subplot(142)\n",
    "plt.plot(x, [sample[0][1] for sample in y])\n",
    "plt.subplot(143)\n",
    "plt.plot(x, [sample[0][2] for sample in y])\n",
    "plt.subplot(144)\n",
    "plt.plot(x, [sample[0][3] for sample in y])\n"
   ]
  }
 ],
 "metadata": {
  "kernelspec": {
   "display_name": "env",
   "language": "python",
   "name": "env"
  },
  "language_info": {
   "codemirror_mode": {
    "name": "ipython",
    "version": 3
   },
   "file_extension": ".py",
   "mimetype": "text/x-python",
   "name": "python",
   "nbconvert_exporter": "python",
   "pygments_lexer": "ipython3",
   "version": "3.11.2"
  },
  "orig_nbformat": 4
 },
 "nbformat": 4,
 "nbformat_minor": 2
}
